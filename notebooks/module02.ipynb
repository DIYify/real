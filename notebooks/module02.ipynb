{
 "cells": [
  {
   "cell_type": "markdown",
   "metadata": {},
   "source": [
    "Module 02: Data Cleaning\n",
    "========================\n",
    "\n",
    "Our second phase entails the data cleaning process. This phase is\n",
    "critical since cleaner data compensates for a lot more than any\n",
    "algorithm could.\n",
    "\n",
    "Check for Duplicates\n",
    "--------------------\n",
    "\n",
    "Let’s start by removing any duplicates.\n",
    "\n",
    "**Objectives:**\n",
    "\n",
    "-   Remove duplicate observations and account for changes\n",
    "\n",
    "Import the libraries and load the dataset."
   ]
  },
  {
   "cell_type": "code",
   "execution_count": 1,
   "metadata": {},
   "outputs": [],
   "source": [
    "import numpy as np\n",
    "import pandas as pd\n",
    "import matplotlib.pyplot as plt\n",
    "import seaborn as sns\n",
    "\n",
    "# change pandas option to view additional data frame columns\n",
    "pd.set_option('display.max_columns', 100)\n",
    "\n",
    "# display plots in the notebook\n",
    "%matplotlib inline\n",
    "\n",
    "# load the real estatate data\n",
    "df = pd.read_csv('../dataset/real_estate_data.csv')"
   ]
  },
  {
   "cell_type": "markdown",
   "metadata": {},
   "source": [
    "Next, we review our data frame shape, call for the removal of\n",
    "duplicates, and determine if any were removed."
   ]
  },
  {
   "cell_type": "code",
   "execution_count": 2,
   "metadata": {},
   "outputs": [
    {
     "data": {
      "text/plain": [
       "(1883, 26)"
      ]
     },
     "execution_count": 2,
     "metadata": {},
     "output_type": "execute_result"
    }
   ],
   "source": [
    "# Drop duplicates and check on the data frame's shape for differences\n",
    "df.shape"
   ]
  },
  {
   "cell_type": "code",
   "execution_count": 3,
   "metadata": {},
   "outputs": [
    {
     "data": {
      "text/plain": [
       "(1883, 26)"
      ]
     },
     "execution_count": 3,
     "metadata": {},
     "output_type": "execute_result"
    }
   ],
   "source": [
    "df = df.drop_duplicates()\n",
    "df.shape"
   ]
  },
  {
   "cell_type": "markdown",
   "metadata": {},
   "source": [
    "Based on the fact that our data frame shape stayed the same, we can\n",
    "determine that there were no duplicates.\n",
    "\n",
    "Structural Errors\n",
    "-----------------\n",
    "\n",
    "Next, we want to check for and account for any structural errors.\n",
    "\n",
    "**Objectives:**\n",
    "\n",
    "-   Replace any variables that should be binary indicators\n",
    "-   Fix typos and capitalization issues for categorical features\n",
    "-   Check for and consolidate mislabeled classes\n",
    "\n",
    "In our first phase, we determined that our basement feature could be\n",
    "modified to show whether a property had a basement or not. We’ll change\n",
    "this feature to replace the missing values with zero."
   ]
  },
  {
   "cell_type": "code",
   "execution_count": 4,
   "metadata": {},
   "outputs": [],
   "source": [
    "# display unique values for given series\n",
    "df.basement.unique()\n",
    "\n",
    "# replace all NaN values with zero\n",
    "df['basement'] = df.basement.fillna(0)"
   ]
  },
  {
   "cell_type": "markdown",
   "metadata": {},
   "source": [
    "Next, let’s check for and fix any typos or capitalization errors. We can\n",
    "also start consolidating features, if necessary."
   ]
  },
  {
   "cell_type": "code",
   "execution_count": 5,
   "metadata": {},
   "outputs": [
    {
     "data": {
      "text/plain": [
       "Composition Shingle      1179\n",
       "Asphalt                   132\n",
       "Shake Shingle              55\n",
       "Other                      49\n",
       "Wood Shake/ Shingles       30\n",
       "Gravel/Rock                30\n",
       "Roll Composition           12\n",
       "Asbestos                    9\n",
       "Slate                       9\n",
       "Composition                 5\n",
       "asphalt                     5\n",
       "Metal                       4\n",
       "composition                 4\n",
       "shake-shingle               3\n",
       "Built-up                    2\n",
       "asphalt,shake-shingle       1\n",
       "Name: roof, dtype: int64"
      ]
     },
     "execution_count": 5,
     "metadata": {},
     "output_type": "execute_result"
    }
   ],
   "source": [
    "# display unique classes and their count\n",
    "df.roof.sort_values().value_counts()"
   ]
  },
  {
   "cell_type": "code",
   "execution_count": 6,
   "metadata": {},
   "outputs": [],
   "source": [
    "# replace categorical data\n",
    "df.roof.replace(to_replace='composition', value='Composition', inplace=True)\n",
    "df.roof.replace(to_replace='asphalt', value='Asphalt', inplace=True)\n",
    "df.roof.replace(['shake-shingle', 'asphalt,shake-shingle'], 'Shake Shingle', inplace=True)"
   ]
  },
  {
   "cell_type": "code",
   "execution_count": 7,
   "metadata": {},
   "outputs": [
    {
     "data": {
      "text/plain": [
       "array(['Asbestos', 'Asphalt', 'Built-up', 'Composition',\n",
       "       'Composition Shingle', 'Gravel/Rock', 'Metal', 'Other',\n",
       "       'Roll Composition', 'Shake Shingle', 'Slate',\n",
       "       'Wood Shake/ Shingles', nan], dtype=object)"
      ]
     },
     "execution_count": 7,
     "metadata": {},
     "output_type": "execute_result"
    }
   ],
   "source": [
    "# validate the changes made\n",
    "df.roof.sort_values().unique()"
   ]
  },
  {
   "cell_type": "markdown",
   "metadata": {},
   "source": [
    "Let’s repeat the process for our exterior walls."
   ]
  },
  {
   "cell_type": "code",
   "execution_count": 8,
   "metadata": {},
   "outputs": [
    {
     "data": {
      "text/plain": [
       "Brick                  687\n",
       "Siding (Alum/Vinyl)    503\n",
       "Metal                  120\n",
       "Combination            107\n",
       "Wood                    72\n",
       "Wood Siding             49\n",
       "Brick veneer            48\n",
       "Stucco                  26\n",
       "Other                   10\n",
       "Concrete                 8\n",
       "Concrete Block           7\n",
       "Block                    7\n",
       "Asbestos shingle         6\n",
       "Rock, Stone              5\n",
       "Masonry                  3\n",
       "Wood Shingle             2\n",
       "Name: exterior_walls, dtype: int64"
      ]
     },
     "execution_count": 8,
     "metadata": {},
     "output_type": "execute_result"
    }
   ],
   "source": [
    "# display unique classes and their count\n",
    "df.exterior_walls.sort_values().value_counts()"
   ]
  },
  {
   "cell_type": "code",
   "execution_count": 9,
   "metadata": {},
   "outputs": [],
   "source": [
    "# consolidate values\n",
    "df.exterior_walls.replace('Rock, Stone', 'Masonry', inplace=True)"
   ]
  },
  {
   "cell_type": "markdown",
   "metadata": {},
   "source": [
    "Unwanted Outliers\n",
    "-----------------\n",
    "\n",
    "Let’s remove any unwanted outliers that can negatively impact our\n",
    "regression model. The removal of these outliers need to be justified, as\n",
    "removing the wrong ones can also be an issue.\n",
    "\n",
    "**Objectives:**\n",
    "\n",
    "-   Check for measurements that are unlikely to be real data\n",
    "-   Determine if any outliers belong to a different population data set\n",
    "-   Consider outliers that may not pertain to the problem at hand\n",
    "\n",
    "Let’s make use of a violin plot to visualize both summary statistics and\n",
    "probability distribution."
   ]
  },
  {
   "cell_type": "code",
   "execution_count": 10,
   "metadata": {},
   "outputs": [
    {
     "data": {
      "text/plain": [
       "<matplotlib.axes._subplots.AxesSubplot at 0x7fee19233630>"
      ]
     },
     "execution_count": 10,
     "metadata": {},
     "output_type": "execute_result"
    },
    {
     "data": {
      "image/png": "[encoded data removed]",
      "text/plain": [
       "<Figure size 432x288 with 1 Axes>"
      ]
     },
     "metadata": {
      "needs_background": "light"
     },
     "output_type": "display_data"
    }
   ],
   "source": [
    "# build a seaborn violin plot of the tx_price\n",
    "sns.violinplot(x=df.lot_size, data=df)"
   ]
  },
  {
   "cell_type": "markdown",
   "metadata": {},
   "source": [
    "We’ll check other features for potential outliers."
   ]
  },
  {
   "cell_type": "code",
   "execution_count": 11,
   "metadata": {},
   "outputs": [
    {
     "data": {
      "text/plain": [
       "<matplotlib.axes._subplots.AxesSubplot at 0x7fee17128b00>"
      ]
     },
     "execution_count": 11,
     "metadata": {},
     "output_type": "execute_result"
    },
    {
     "data": {
      "image/png": "[encoded data removed]",
      "text/plain": [
       "<Figure size 432x288 with 1 Axes>"
      ]
     },
     "metadata": {
      "needs_background": "light"
     },
     "output_type": "display_data"
    }
   ],
   "source": [
    "# violin plot of beds\n",
    "sns.violinplot(df.beds)"
   ]
  },
  {
   "cell_type": "code",
   "execution_count": 12,
   "metadata": {},
   "outputs": [
    {
     "data": {
      "text/plain": [
       "<matplotlib.axes._subplots.AxesSubplot at 0x7fee6411a8d0>"
      ]
     },
     "execution_count": 12,
     "metadata": {},
     "output_type": "execute_result"
    },
    {
     "data": {
      "image/png": "[encoded data removed]",
      "text/plain": [
       "<Figure size 432x288 with 1 Axes>"
      ]
     },
     "metadata": {
      "needs_background": "light"
     },
     "output_type": "display_data"
    }
   ],
   "source": [
    "# violin plot of sqft\n",
    "sns.violinplot(df.sqft)"
   ]
  },
  {
   "cell_type": "code",
   "execution_count": 13,
   "metadata": {},
   "outputs": [
    {
     "data": {
      "text/plain": [
       "<matplotlib.axes._subplots.AxesSubplot at 0x7fee1705d208>"
      ]
     },
     "execution_count": 13,
     "metadata": {},
     "output_type": "execute_result"
    },
    {
     "data": {
      "image/png": "[encoded data removed]",
      "text/plain": [
       "<Figure size 432x288 with 1 Axes>"
      ]
     },
     "metadata": {
      "needs_background": "light"
     },
     "output_type": "display_data"
    }
   ],
   "source": [
    "# violin plot of lot_size\n",
    "sns.violinplot(df.lot_size)"
   ]
  },
  {
   "cell_type": "markdown",
   "metadata": {},
   "source": [
    "Looking at our violin plot of the lot size, we can see that there may be\n",
    "a potential outlier. We can further investigate this by reviewing the\n",
    "series top values."
   ]
  },
  {
   "cell_type": "code",
   "execution_count": 14,
   "metadata": {},
   "outputs": [
    {
     "data": {
      "text/plain": [
       "102     1220551\n",
       "1111     436471\n",
       "1876     436035\n",
       "1832     436035\n",
       "1115     435600\n",
       "Name: lot_size, dtype: int64"
      ]
     },
     "execution_count": 14,
     "metadata": {},
     "output_type": "execute_result"
    }
   ],
   "source": [
    "# sort values to review for extreme boundry outliers\n",
    "df.lot_size.sort_values(ascending=False)[:5]"
   ]
  },
  {
   "cell_type": "markdown",
   "metadata": {},
   "source": [
    "We can see that the top lot size value is significantly greater than any\n",
    "of the other four values. Since it will be unlikely that our client will\n",
    "invest in properties this large, we can remove it from the dataset."
   ]
  },
  {
   "cell_type": "code",
   "execution_count": 15,
   "metadata": {},
   "outputs": [
    {
     "data": {
      "text/plain": [
       "(1882, 26)"
      ]
     },
     "execution_count": 15,
     "metadata": {},
     "output_type": "execute_result"
    }
   ],
   "source": [
    "# use a boolean mask to remove unwanted onservations\n",
    "df = df[df.lot_size <= 500000]\n",
    "\n",
    "# review the dataframe shape to confirm its removal\n",
    "df.shape"
   ]
  },
  {
   "cell_type": "markdown",
   "metadata": {},
   "source": [
    "Missing Categorical Data\n",
    "------------------------\n",
    "\n",
    "Rather than dropping or imputing null values, it’s often times better to\n",
    "explicitly state the values are missing.\n",
    "\n",
    "**Objectives:**\n",
    "\n",
    "-   Account for null values and replace them with ‘Missing’"
   ]
  },
  {
   "cell_type": "code",
   "execution_count": 16,
   "metadata": {},
   "outputs": [
    {
     "data": {
      "text/plain": [
       "property_type       0\n",
       "exterior_walls    223\n",
       "roof              353\n",
       "dtype: int64"
      ]
     },
     "execution_count": 16,
     "metadata": {},
     "output_type": "execute_result"
    }
   ],
   "source": [
    "# check for null value count by object dtypes\n",
    "df.select_dtypes(include='object').isnull().sum()"
   ]
  },
  {
   "cell_type": "code",
   "execution_count": 17,
   "metadata": {},
   "outputs": [
    {
     "data": {
      "text/plain": [
       "property_type     0\n",
       "exterior_walls    0\n",
       "roof              0\n",
       "dtype: int64"
      ]
     },
     "execution_count": 17,
     "metadata": {},
     "output_type": "execute_result"
    }
   ],
   "source": [
    "# loop through object dtypes and replace null values with 'missing'\n",
    "for column in df.select_dtypes(include=['object']):\n",
    "    df[column] = df[column].fillna('Missing')\n",
    "\n",
    "# verify that all null values have been replaced\n",
    "df.select_dtypes(include=['object']).isnull().sum()"
   ]
  },
  {
   "cell_type": "markdown",
   "metadata": {},
   "source": [
    "Missing Numeric Data\n",
    "--------------------\n",
    "\n",
    "As with categorical data, we need to be explicit if there any missing\n",
    "values.\n",
    "\n",
    "-   Create new boolean feature indicating whether values are missing\n",
    "-   Set all null values to zero\n",
    "\n",
    "Let’s start off by checking for any missing values."
   ]
  },
  {
   "cell_type": "code",
   "execution_count": 18,
   "metadata": {},
   "outputs": [
    {
     "data": {
      "text/plain": [
       "tx_price              0\n",
       "beds                  0\n",
       "baths                 0\n",
       "sqft                  0\n",
       "year_built            0\n",
       "lot_size              0\n",
       "basement              0\n",
       "restaurants           0\n",
       "groceries             0\n",
       "nightlife             0\n",
       "cafes                 0\n",
       "shopping              0\n",
       "arts_entertainment    0\n",
       "beauty_spas           0\n",
       "active_life           0\n",
       "median_age            0\n",
       "married               0\n",
       "college_grad          0\n",
       "property_tax          0\n",
       "insurance             0\n",
       "median_school         0\n",
       "num_schools           0\n",
       "tx_year               0\n",
       "dtype: int64"
      ]
     },
     "execution_count": 18,
     "metadata": {},
     "output_type": "execute_result"
    }
   ],
   "source": [
    "# get sum of all missing values for numeric features\n",
    "df.select_dtypes(exclude='object').isnull().sum()"
   ]
  },
  {
   "cell_type": "markdown",
   "metadata": {},
   "source": [
    "There doesn’t appear to be any missing numerical data, so we are\n",
    "finished with the data cleaning phase. Before moving on, let’s export\n",
    "our updated dataset."
   ]
  },
  {
   "cell_type": "code",
   "execution_count": 19,
   "metadata": {},
   "outputs": [],
   "source": [
    "df.to_csv('../dataset/cleaned_df.csv', index=None)"
   ]
  },
  {
   "cell_type": "markdown",
   "metadata": {},
   "source": [
    "Next Module\n",
    "-----------\n",
    "\n",
    "[03. Feature Engineering](module03.ipynb)"
   ]
  }
 ],
 "metadata": {
  "kernelspec": {
   "display_name": "Python 3",
   "language": "python",
   "name": "python3"
  },
  "language_info": {
   "codemirror_mode": {
    "name": "ipython",
    "version": 3
   },
   "file_extension": ".py",
   "mimetype": "text/x-python",
   "name": "python",
   "nbconvert_exporter": "python",
   "pygments_lexer": "ipython3",
   "version": "3.7.3"
  }
 },
 "nbformat": 4,
 "nbformat_minor": 5
}
