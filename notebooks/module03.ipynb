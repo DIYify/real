{
 "cells": [
  {
   "cell_type": "markdown",
   "metadata": {},
   "source": [
    "Module 03: Feature Engineering\n",
    "==============================\n",
    "\n",
    "Domain Knowledge\n",
    "----------------\n",
    "\n",
    "Engineered features should start by using your own (or others’)\n",
    "expertise about the domain.\n",
    "\n",
    "**Objectives:**\n",
    "\n",
    "-   Isolate information that may be important\n",
    "-   Make use of boolean masks to develop new features\n",
    "\n",
    "Import libraries and load dataset"
   ]
  },
  {
   "cell_type": "code",
   "execution_count": 68,
   "metadata": {},
   "outputs": [],
   "source": [
    "import numpy as np\n",
    "import pandas as pd\n",
    "import matplotlib.pyplot as plt\n",
    "import seaborn as sns\n",
    "\n",
    "# view additional data frame columns\n",
    "pd.set_option('display.max_columns', 100)\n",
    "\n",
    "# display plots in the notebook\n",
    "%matplotlib inline\n",
    "\n",
    "# load the cleaned dataset\n",
    "df = pd.read_csv('../dataset/cleaned_df.csv')"
   ]
  },
  {
   "cell_type": "markdown",
   "metadata": {},
   "source": [
    "Let’s build a feature for 2 beds & 2 baths, which is a popular home\n",
    "option for investors."
   ]
  },
  {
   "cell_type": "code",
   "execution_count": 69,
   "metadata": {},
   "outputs": [
    {
     "data": {
      "text/plain": [
       "9.458023379383635"
      ]
     },
     "execution_count": 69,
     "metadata": {},
     "output_type": "execute_result"
    }
   ],
   "source": [
    "# create a boolean feature\n",
    "df['two_and_two'] = ((df.beds == 2) & (df.baths == 2)).astype(int)\n",
    "\n",
    "# determine the percentage of properties that are two_and_two\n",
    "df.two_and_two.mean() * 100"
   ]
  },
  {
   "cell_type": "markdown",
   "metadata": {},
   "source": [
    "Taking domain knowledge into consideration, we can account for the\n",
    "housing market recession that occurred between 2010 and 2013. To do so,\n",
    "we can develop a new feature that indicates whether the property\n",
    "transaction fell in between the mentioned time period."
   ]
  },
  {
   "cell_type": "code",
   "execution_count": 70,
   "metadata": {},
   "outputs": [
    {
     "data": {
      "text/plain": [
       "26.35494155154091"
      ]
     },
     "execution_count": 70,
     "metadata": {},
     "output_type": "execute_result"
    }
   ],
   "source": [
    "# create features based on domain knowledge\n",
    "df['during_recession'] = df.tx_year.between(left=2010, right=2013).astype(int)\n",
    "\n",
    "# determine the percentage of transactions that occurred during the recession\n",
    "df.during_recession.mean() * 100"
   ]
  },
  {
   "cell_type": "markdown",
   "metadata": {},
   "source": [
    "Interaction Features\n",
    "--------------------\n",
    "\n",
    "Engineer features based on interaction between two or more features.\n",
    "\n",
    "**Objectives:**\n",
    "\n",
    "-   With the use of domain knowledge, build arithmetic features\n",
    "\n",
    "Let’s build a feature that determines the property age at the time of\n",
    "the transaction."
   ]
  },
  {
   "cell_type": "code",
   "execution_count": 71,
   "metadata": {},
   "outputs": [
    {
     "data": {
      "text/plain": [
       "count    1882.000000\n",
       "mean       24.126461\n",
       "std        21.153271\n",
       "min        -8.000000\n",
       "25%         6.000000\n",
       "50%        20.000000\n",
       "75%        38.000000\n",
       "max       114.000000\n",
       "Name: property_age, dtype: float64"
      ]
     },
     "execution_count": 71,
     "metadata": {},
     "output_type": "execute_result"
    }
   ],
   "source": [
    "# Use arithmetic to construct new features \n",
    "df['property_age'] = df.tx_year - df.year_built\n",
    "\n",
    "# Check for improper data values\n",
    "df.property_age.describe()"
   ]
  },
  {
   "cell_type": "markdown",
   "metadata": {},
   "source": [
    "From our summary statistics, we can see that our minimum property value\n",
    "is -8. Let’s determine the number properties who also have a negative\n",
    "age."
   ]
  },
  {
   "cell_type": "code",
   "execution_count": 72,
   "metadata": {},
   "outputs": [
    {
     "data": {
      "text/plain": [
       "19"
      ]
     },
     "execution_count": 72,
     "metadata": {},
     "output_type": "execute_result"
    }
   ],
   "source": [
    "# Determine the number of observations that have descrepancies\n",
    "df.property_age.lt(0).sum()"
   ]
  },
  {
   "cell_type": "markdown",
   "metadata": {},
   "source": [
    "Once again taking domain knowledge into consideration, we can assume\n",
    "that some properties were purchased before they were constructed. Since\n",
    "our client is only interested in existing homes, we’ll remove these\n",
    "exceptions."
   ]
  },
  {
   "cell_type": "code",
   "execution_count": 73,
   "metadata": {},
   "outputs": [
    {
     "data": {
      "text/plain": [
       "1863"
      ]
     },
     "execution_count": 73,
     "metadata": {},
     "output_type": "execute_result"
    }
   ],
   "source": [
    "# Remove observations that are negative in property age\n",
    "df = df[df.property_age >= 0]\n",
    "\n",
    "# review the remaining observations\n",
    "len(df)"
   ]
  },
  {
   "cell_type": "markdown",
   "metadata": {},
   "source": [
    "We may find value in building a score system that ranks properties based\n",
    "on the number of schools nearby and their quality score. To do so, we\n",
    "can engineer a feature that is a product of both ‘num\\_schools’ and\n",
    "‘median\\_school’."
   ]
  },
  {
   "cell_type": "code",
   "execution_count": 74,
   "metadata": {},
   "outputs": [
    {
     "data": {
      "text/plain": [
       "18.0"
      ]
     },
     "execution_count": 74,
     "metadata": {},
     "output_type": "execute_result"
    }
   ],
   "source": [
    "# Create feature for school score\n",
    "df['school_score'] = df.num_schools * df.median_school\n",
    "df.school_score.median()"
   ]
  },
  {
   "cell_type": "markdown",
   "metadata": {},
   "source": [
    "Sparse Classes\n",
    "--------------\n",
    "\n",
    "Reduce the number of sparse classes for categorical features.\n",
    "\n",
    "**Objectives:**\n",
    "\n",
    "-   Check for and consolidate similar classes\n",
    "-   Group sparse classes into a single “Other” class\n",
    "\n",
    "When consolidating sparse classes, the general rule of thumb is that\n",
    "each class has at least 50 observations; this is subjective to each data\n",
    "set and is not an actual guideline."
   ]
  },
  {
   "cell_type": "code",
   "execution_count": 75,
   "metadata": {},
   "outputs": [
    {
     "data": {
      "text/plain": [
       "property_type     object\n",
       "exterior_walls    object\n",
       "roof              object\n",
       "dtype: object"
      ]
     },
     "execution_count": 75,
     "metadata": {},
     "output_type": "execute_result"
    }
   ],
   "source": [
    "# review the categorical features in use\n",
    "df.dtypes[df.dtypes == 'object']"
   ]
  },
  {
   "cell_type": "markdown",
   "metadata": {},
   "source": [
    "Let’s start with the ‘exterior\\_walls’ series."
   ]
  },
  {
   "cell_type": "code",
   "execution_count": 76,
   "metadata": {},
   "outputs": [
    {
     "data": {
      "text/plain": [
       "Brick                  682\n",
       "Siding (Alum/Vinyl)    496\n",
       "Missing                222\n",
       "Metal                  120\n",
       "Combination            106\n",
       "Wood                    71\n",
       "Wood Siding             49\n",
       "Brick veneer            48\n",
       "Stucco                  23\n",
       "Concrete                 8\n",
       "Other                    8\n",
       "Masonry                  8\n",
       "Concrete Block           7\n",
       "Block                    7\n",
       "Asbestos shingle         6\n",
       "Wood Shingle             2\n",
       "Name: exterior_walls, dtype: int64"
      ]
     },
     "execution_count": 76,
     "metadata": {},
     "output_type": "execute_result"
    }
   ],
   "source": [
    "# get value counts for each exterior_walls class\n",
    "df.exterior_walls.value_counts()"
   ]
  },
  {
   "cell_type": "markdown",
   "metadata": {},
   "source": [
    "Alternatively, we can build a seaborn countplot to visualize the\n",
    "disparity amongst the classes."
   ]
  },
  {
   "cell_type": "code",
   "execution_count": 77,
   "metadata": {},
   "outputs": [
    {
     "data": {
      "text/plain": [
       "<matplotlib.axes._subplots.AxesSubplot at 0x7f7a19cd86d8>"
      ]
     },
     "execution_count": 77,
     "metadata": {},
     "output_type": "execute_result"
    },
    {
     "data": {
      "image/png": "[encoded data removed]",
      "text/plain": [
       "<Figure size 432x288 with 1 Axes>"
      ]
     },
     "metadata": {
      "needs_background": "light"
     },
     "output_type": "display_data"
    }
   ],
   "source": [
    "# use a countplot to compare distribution for each feature class\n",
    "sns.countplot(y=df.exterior_walls.sort_values())"
   ]
  },
  {
   "cell_type": "markdown",
   "metadata": {},
   "source": [
    "Let’s start consolidating similar classes."
   ]
  },
  {
   "cell_type": "code",
   "execution_count": 78,
   "metadata": {},
   "outputs": [],
   "source": [
    "# consolidate similar wood classes\n",
    "df.exterior_walls.replace(to_replace=['Wood Shingle', 'Wood Siding'], value='Wood', inplace=True) "
   ]
  },
  {
   "cell_type": "markdown",
   "metadata": {},
   "source": [
    "Next, we’ll consolidate sparse classes into a single ‘Other’ class."
   ]
  },
  {
   "cell_type": "code",
   "execution_count": 79,
   "metadata": {},
   "outputs": [
    {
     "data": {
      "text/plain": [
       "Brick                  682\n",
       "Siding (Alum/Vinyl)    496\n",
       "Missing                222\n",
       "Wood                   122\n",
       "Metal                  120\n",
       "Combination            106\n",
       "Brick veneer            48\n",
       "Stucco                  23\n",
       "Concrete                 8\n",
       "Other                    8\n",
       "Masonry                  8\n",
       "Concrete Block           7\n",
       "Block                    7\n",
       "Asbestos shingle         6\n",
       "Name: exterior_walls, dtype: int64"
      ]
     },
     "execution_count": 79,
     "metadata": {},
     "output_type": "execute_result"
    }
   ],
   "source": [
    "df.exterior_walls.value_counts()"
   ]
  },
  {
   "cell_type": "code",
   "execution_count": 80,
   "metadata": {},
   "outputs": [],
   "source": [
    "# group sparse classes into \"other\"\n",
    "other_exterior_walls = ['Stucco', 'Concrete Block', 'Masonry', 'Other', 'Asbestos shingle']\n",
    "df.exterior_walls.replace(to_replace=other_exterior_walls, value='Other', inplace=True)"
   ]
  },
  {
   "cell_type": "markdown",
   "metadata": {},
   "source": [
    "Let’s look at the classes by count once again."
   ]
  },
  {
   "cell_type": "code",
   "execution_count": 81,
   "metadata": {},
   "outputs": [
    {
     "data": {
      "text/plain": [
       "Composition Shingle     1162\n",
       "Missing                  352\n",
       "Asphalt                  136\n",
       "Shake Shingle             59\n",
       "Other                     49\n",
       "Wood Shake/ Shingles      30\n",
       "Gravel/Rock               30\n",
       "Roll Composition          12\n",
       "Slate                      9\n",
       "Asbestos                   9\n",
       "Composition                9\n",
       "Metal                      4\n",
       "Built-up                   2\n",
       "Name: roof, dtype: int64"
      ]
     },
     "execution_count": 81,
     "metadata": {},
     "output_type": "execute_result"
    }
   ],
   "source": [
    "# unique roof class value counts\n",
    "df.roof.value_counts()"
   ]
  },
  {
   "cell_type": "code",
   "execution_count": 82,
   "metadata": {},
   "outputs": [
    {
     "data": {
      "text/plain": [
       "<matplotlib.axes._subplots.AxesSubplot at 0x7f7a19974710>"
      ]
     },
     "execution_count": 82,
     "metadata": {},
     "output_type": "execute_result"
    },
    {
     "data": {
      "image/png": "[encoded data removed]",
      "text/plain": [
       "<Figure size 432x288 with 1 Axes>"
      ]
     },
     "metadata": {
      "needs_background": "light"
     },
     "output_type": "display_data"
    }
   ],
   "source": [
    "# build a visual seaborn countplot of the exterior walls\n",
    "sns.countplot(y='exterior_walls', data=df)"
   ]
  },
  {
   "cell_type": "markdown",
   "metadata": {},
   "source": [
    "We will repeat the same process for the ‘roof’ series."
   ]
  },
  {
   "cell_type": "code",
   "execution_count": 83,
   "metadata": {},
   "outputs": [
    {
     "data": {
      "text/plain": [
       "Composition Shingle     1162\n",
       "Missing                  352\n",
       "Asphalt                  136\n",
       "Shake Shingle             59\n",
       "Other                     49\n",
       "Wood Shake/ Shingles      30\n",
       "Gravel/Rock               30\n",
       "Roll Composition          12\n",
       "Slate                      9\n",
       "Asbestos                   9\n",
       "Composition                9\n",
       "Metal                      4\n",
       "Built-up                   2\n",
       "Name: roof, dtype: int64"
      ]
     },
     "execution_count": 83,
     "metadata": {},
     "output_type": "execute_result"
    }
   ],
   "source": [
    "# get value counts for roof\n",
    "df.roof.value_counts()"
   ]
  },
  {
   "cell_type": "code",
   "execution_count": 84,
   "metadata": {},
   "outputs": [],
   "source": [
    "# consolidate into the 'Composition Shingle' class\n",
    "df.roof.replace(['Composition', 'Wood Shake/ Shingles'], 'Composition Shingle', inplace=True)\n",
    "\n",
    "# list of classes to be replaced by 'Other'\n",
    "other_roofs = ['Other', 'Gravel/Rock', 'Roll Composition', 'Slate', 'Asbestos', 'Metal', 'Built-up']\n",
    "\n",
    "# consolidate into the 'Other' class\n",
    "df.roof.replace(other_roofs, 'Other', inplace=True)"
   ]
  },
  {
   "cell_type": "code",
   "execution_count": 85,
   "metadata": {},
   "outputs": [
    {
     "data": {
      "text/plain": [
       "Composition Shingle    1201\n",
       "Missing                 352\n",
       "Asphalt                 136\n",
       "Other                   115\n",
       "Shake Shingle            59\n",
       "Name: roof, dtype: int64"
      ]
     },
     "execution_count": 85,
     "metadata": {},
     "output_type": "execute_result"
    }
   ],
   "source": [
    "# get value counts for roof\n",
    "df.roof.value_counts()"
   ]
  },
  {
   "cell_type": "code",
   "execution_count": 86,
   "metadata": {},
   "outputs": [
    {
     "data": {
      "text/plain": [
       "<matplotlib.axes._subplots.AxesSubplot at 0x7f7a198f89e8>"
      ]
     },
     "execution_count": 86,
     "metadata": {},
     "output_type": "execute_result"
    },
    {
     "data": {
      "image/png": "[encoded data removed]",
      "text/plain": [
       "<Figure size 432x288 with 1 Axes>"
      ]
     },
     "metadata": {
      "needs_background": "light"
     },
     "output_type": "display_data"
    }
   ],
   "source": [
    "sns.countplot(y='roof', data=df)"
   ]
  },
  {
   "cell_type": "markdown",
   "metadata": {},
   "source": [
    "Dummy Variables\n",
    "---------------\n",
    "\n",
    "In the case of Scikit-Learn, it can’t directly handle categorical\n",
    "features. Instead, indicator variables must be created for every\n",
    "categorical class.\n",
    "\n",
    "For example, our roof class has 5 classes."
   ]
  },
  {
   "cell_type": "code",
   "execution_count": 87,
   "metadata": {},
   "outputs": [
    {
     "data": {
      "text/plain": [
       "array(['Missing', 'Composition Shingle', 'Other', 'Asphalt',\n",
       "       'Shake Shingle'], dtype=object)"
      ]
     },
     "execution_count": 87,
     "metadata": {},
     "output_type": "execute_result"
    }
   ],
   "source": [
    "# view unique classes for roof\n",
    "df.roof.unique()"
   ]
  },
  {
   "cell_type": "markdown",
   "metadata": {},
   "source": [
    "For any one observation, we will instead need to specify whether the\n",
    "observation matches any of the classes. In essence, we will need to\n",
    "create a feature for each class and assign an indicator value."
   ]
  },
  {
   "cell_type": "code",
   "execution_count": 88,
   "metadata": {},
   "outputs": [],
   "source": [
    "# convert categorical variables into indicator variables\n",
    "df = pd.get_dummies(df, columns=['exterior_walls', 'roof', 'property_type'])"
   ]
  },
  {
   "cell_type": "markdown",
   "metadata": {},
   "source": [
    "Our roof series has now been replaced with five new features."
   ]
  },
  {
   "cell_type": "code",
   "execution_count": 89,
   "metadata": {},
   "outputs": [
    {
     "data": {
      "text/html": [
       "<div>\n",
       "<style scoped>\n",
       "    .dataframe tbody tr th:only-of-type {\n",
       "        vertical-align: middle;\n",
       "    }\n",
       "\n",
       "    .dataframe tbody tr th {\n",
       "        vertical-align: top;\n",
       "    }\n",
       "\n",
       "    .dataframe thead th {\n",
       "        text-align: right;\n",
       "    }\n",
       "</style>\n",
       "<table border=\"1\" class=\"dataframe\">\n",
       "  <thead>\n",
       "    <tr style=\"text-align: right;\">\n",
       "      <th></th>\n",
       "      <th>roof_Asphalt</th>\n",
       "      <th>roof_Composition Shingle</th>\n",
       "      <th>roof_Missing</th>\n",
       "      <th>roof_Other</th>\n",
       "      <th>roof_Shake Shingle</th>\n",
       "    </tr>\n",
       "  </thead>\n",
       "  <tbody>\n",
       "    <tr>\n",
       "      <th>0</th>\n",
       "      <td>0</td>\n",
       "      <td>0</td>\n",
       "      <td>1</td>\n",
       "      <td>0</td>\n",
       "      <td>0</td>\n",
       "    </tr>\n",
       "    <tr>\n",
       "      <th>1</th>\n",
       "      <td>0</td>\n",
       "      <td>1</td>\n",
       "      <td>0</td>\n",
       "      <td>0</td>\n",
       "      <td>0</td>\n",
       "    </tr>\n",
       "    <tr>\n",
       "      <th>2</th>\n",
       "      <td>0</td>\n",
       "      <td>0</td>\n",
       "      <td>1</td>\n",
       "      <td>0</td>\n",
       "      <td>0</td>\n",
       "    </tr>\n",
       "    <tr>\n",
       "      <th>3</th>\n",
       "      <td>0</td>\n",
       "      <td>0</td>\n",
       "      <td>1</td>\n",
       "      <td>0</td>\n",
       "      <td>0</td>\n",
       "    </tr>\n",
       "    <tr>\n",
       "      <th>4</th>\n",
       "      <td>0</td>\n",
       "      <td>0</td>\n",
       "      <td>1</td>\n",
       "      <td>0</td>\n",
       "      <td>0</td>\n",
       "    </tr>\n",
       "  </tbody>\n",
       "</table>\n",
       "</div>"
      ],
      "text/plain": [
       "   roof_Asphalt  roof_Composition Shingle  roof_Missing  roof_Other  \\\n",
       "0             0                         0             1           0   \n",
       "1             0                         1             0           0   \n",
       "2             0                         0             1           0   \n",
       "3             0                         0             1           0   \n",
       "4             0                         0             1           0   \n",
       "\n",
       "   roof_Shake Shingle  \n",
       "0                   0  \n",
       "1                   0  \n",
       "2                   0  \n",
       "3                   0  \n",
       "4                   0  "
      ]
     },
     "execution_count": 89,
     "metadata": {},
     "output_type": "execute_result"
    }
   ],
   "source": [
    "# display new dummy variables \n",
    "df.filter(like='roof').head(5)"
   ]
  },
  {
   "cell_type": "markdown",
   "metadata": {},
   "source": [
    "Remove Unused\n",
    "-------------\n",
    "\n",
    "Remove unused or redundant features from the dataset.\n",
    "\n",
    "**Objectives:**\n",
    "\n",
    "-   Remove features that don’t make sense to pass into the machine\n",
    "    learning algorithms.\n",
    "-   Remove features that are redundant\n",
    "\n",
    "Since we created the ‘property\\_age’ feature, both the ‘tx\\_year’ and\n",
    "‘year\\_built’ can be dropped."
   ]
  },
  {
   "cell_type": "code",
   "execution_count": 90,
   "metadata": {},
   "outputs": [],
   "source": [
    "df = df.drop(columns=['tx_year', 'year_built'])"
   ]
  },
  {
   "cell_type": "markdown",
   "metadata": {},
   "source": [
    "Let’s export our updated dataset before moving on."
   ]
  },
  {
   "cell_type": "code",
   "execution_count": 91,
   "metadata": {},
   "outputs": [],
   "source": [
    "df.to_csv('../dataset/analytical_base_table.csv', index=None)"
   ]
  },
  {
   "cell_type": "markdown",
   "metadata": {},
   "source": [
    "Next Module\n",
    "-----------\n",
    "\n",
    "[04. Model Training](module04.ipynb)"
   ]
  }
 ],
 "metadata": {
  "kernelspec": {
   "display_name": "Python 3",
   "language": "python",
   "name": "python3"
  },
  "language_info": {
   "codemirror_mode": {
    "name": "ipython",
    "version": 3
   },
   "file_extension": ".py",
   "mimetype": "text/x-python",
   "name": "python",
   "nbconvert_exporter": "python",
   "pygments_lexer": "ipython3",
   "version": "3.7.3"
  }
 },
 "nbformat": 4,
 "nbformat_minor": 5
}
