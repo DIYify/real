{
 "cells": [
  {
   "cell_type": "markdown",
   "metadata": {},
   "source": [
    "Module 01: Exploratory Analysis\n",
    "===============================\n",
    "\n",
    "Let’s begin our project by first getting to know the dataset. Our\n",
    "initial analysis will allow us to start planning for our next steps in\n",
    "data cleaning and feature engineering. This step should be quick, but\n",
    "thorough enough for us to gain a basic intuition for addressing the\n",
    "problem at hand.\n",
    "\n",
    "Basic Information\n",
    "-----------------\n",
    "\n",
    "Here is an overview of our objectives for this phase:\n",
    "\n",
    "-   Import data as a pandas dataframe\n",
    "-   Review data shape (observations, features)\n",
    "-   Review the data types to determine categorical vs numerical features\n",
    "-   Reference the data dictionary and verify features weren’t imported\n",
    "    as incorrect data type\n",
    "-   Perform base analysis of dataset and get a qualitative feel\n",
    "\n",
    "Let’s start by importing our libraries and make our initial\n",
    "configurations."
   ]
  },
  {
   "cell_type": "code",
   "execution_count": null,
   "metadata": {},
   "outputs": [],
   "source": [
    "import numpy as np\n",
    "import pandas as pd\n",
    "import matplotlib.pyplot as plt\n",
    "import seaborn as sns\n",
    "        \n",
    "# change pandas option to view additional data frame columns\n",
    "pd.set_option('display.max_columns', 100)\n",
    "\n",
    "# display plots in the notebook\n",
    "%matplotlib inline"
   ]
  },
  {
   "cell_type": "markdown",
   "metadata": {},
   "source": [
    "Next, let’s load our data set."
   ]
  },
  {
   "cell_type": "code",
   "execution_count": null,
   "metadata": {},
   "outputs": [],
   "source": [
    "# load the real estate data from the dataset folder\n",
    "df = pd.read_csv('../dataset/real_estate_data.csv')"
   ]
  },
  {
   "cell_type": "markdown",
   "metadata": {},
   "source": [
    "Now that our data set has been loaded, let’s get an initial\n",
    "understanding on what we’re working with."
   ]
  },
  {
   "cell_type": "code",
   "execution_count": null,
   "metadata": {},
   "outputs": [],
   "source": [
    "# the dataframe shape tells us the number of observations and features available\n",
    "df.shape"
   ]
  },
  {
   "cell_type": "code",
   "execution_count": null,
   "metadata": {},
   "outputs": [],
   "source": [
    "# display the columns and sort them by index name\n",
    "df.dtypes.sort_index()"
   ]
  },
  {
   "cell_type": "code",
   "execution_count": null,
   "metadata": {},
   "outputs": [],
   "source": [
    "# determine which features are categorical\n",
    "df.dtypes[df.dtypes == 'object']"
   ]
  },
  {
   "cell_type": "code",
   "execution_count": null,
   "metadata": {},
   "outputs": [],
   "source": [
    "# display the first five observations\n",
    "df.head(5)"
   ]
  },
  {
   "cell_type": "code",
   "execution_count": null,
   "metadata": {},
   "outputs": [],
   "source": [
    "# display the last five observations\n",
    "df.tail()"
   ]
  },
  {
   "cell_type": "markdown",
   "metadata": {},
   "source": [
    "Numeric Distribution\n",
    "====================\n",
    "\n",
    "After completing our basic observations, let’s review our numerical data\n",
    "for the following:\n",
    "\n",
    "-   Unexpected distributions (e.g. max value higher than normal)\n",
    "-   Numbers outside of their boundaries (e.g. +100%)\n",
    "-   Sparse data\n",
    "-   Measurement errors"
   ]
  },
  {
   "cell_type": "code",
   "execution_count": null,
   "metadata": {},
   "outputs": [],
   "source": [
    "# plot histogram \n",
    "df.hist(figsize=(14, 14), xrot=-45)\n",
    "\n",
    "# clear the text \"residue\"\n",
    "plt.show()"
   ]
  },
  {
   "cell_type": "markdown",
   "metadata": {},
   "source": [
    "While building a visual provides a quick interpretation of the data, it\n",
    "lacks the detail necessary for a more in-depth analysis."
   ]
  },
  {
   "cell_type": "code",
   "execution_count": null,
   "metadata": {},
   "outputs": [],
   "source": [
    "# display summary statistics, such as mean, std, and quartiles\n",
    "df.describe()"
   ]
  },
  {
   "cell_type": "code",
   "execution_count": null,
   "metadata": {},
   "outputs": [],
   "source": [
    "# we can specify summary statistics for a particular observation\n",
    "df.basement.describe()"
   ]
  },
  {
   "cell_type": "markdown",
   "metadata": {},
   "source": [
    "At a quick glance, our numerical data appears to make sense. At this\n",
    "point, we can consider features that could potentially be replaced by\n",
    "booleans, such as the basement feature.\n",
    "\n",
    "Categorical Distribution\n",
    "------------------------\n",
    "\n",
    "Let’s review the categorical data for the following:\n",
    "\n",
    "-   Observe class frequency\n",
    "-   Account for sparse data that could be combined or reassigned"
   ]
  },
  {
   "cell_type": "code",
   "execution_count": null,
   "metadata": {},
   "outputs": [],
   "source": [
    "# filter our observations by object type to provide descriptions\n",
    "df.describe(include=['object'])"
   ]
  },
  {
   "cell_type": "markdown",
   "metadata": {},
   "source": [
    "From our object type descriptions, we see that some features contain\n",
    "multiple unique values. We can build a seaborn countplot visual to\n",
    "better understand their distribution."
   ]
  },
  {
   "cell_type": "code",
   "execution_count": null,
   "metadata": {},
   "outputs": [],
   "source": [
    "# display a barplot with the count for y variables\n",
    "sns.countplot(y='exterior_walls', data=df)"
   ]
  },
  {
   "cell_type": "code",
   "execution_count": null,
   "metadata": {},
   "outputs": [],
   "source": [
    "# barplot with count for each object index\n",
    "for index in df.dtypes[df.dtypes == 'object'].index:\n",
    "    sns.countplot(y=index, data=df)"
   ]
  },
  {
   "cell_type": "markdown",
   "metadata": {},
   "source": [
    "At this point, we should have started to think of features we can\n",
    "consider consolidating.\n",
    "\n",
    "Segmentations\n",
    "-------------\n",
    "\n",
    "Review segmentation to observe the relationship between categorical and\n",
    "numeric features.\n",
    "\n",
    "-   Build a boxplot to segment the target variable (tx\\_price) by key\n",
    "    categorical features."
   ]
  },
  {
   "cell_type": "code",
   "execution_count": null,
   "metadata": {},
   "outputs": [],
   "source": [
    "# use boxplot for a visual interpretation\n",
    "sns.boxplot(y='property_type', x='tx_price', data=df)"
   ]
  },
  {
   "cell_type": "code",
   "execution_count": null,
   "metadata": {},
   "outputs": [],
   "source": [
    "# segment by property_type and get means for each class\n",
    "df.groupby('property_type').mean()"
   ]
  },
  {
   "cell_type": "code",
   "execution_count": null,
   "metadata": {},
   "outputs": [],
   "source": [
    "# segment by property_type and get both mean and std for each class\n",
    "df.groupby('property_type').agg(['mean', 'std'])"
   ]
  },
  {
   "cell_type": "markdown",
   "metadata": {},
   "source": [
    "When comparing our features, we should consider the following questions:\n",
    "\n",
    "-   On average, which type of property is larger?\n",
    "\n",
    "-   Which type of property has larger lots?\n",
    "\n",
    "-   Which property is in areas of more nightlife/restaurants/grocery\n",
    "    stores?\n",
    "\n",
    "-   Are there any relationships that make intuitive sense?\n",
    "\n",
    "Correlation\n",
    "-----------\n",
    "\n",
    "Correlate relationships between numeric features:\n",
    "\n",
    "-   Search for strong correlations for target variable\n",
    "\n",
    "To start, we can assess our correlations against our target value."
   ]
  },
  {
   "cell_type": "code",
   "execution_count": null,
   "metadata": {},
   "outputs": [],
   "source": [
    "# Calculate correlation between numeric features\n",
    "correlations = df.corr()\n",
    "correlations.tx_price.sort_values(ascending=True)"
   ]
  },
  {
   "cell_type": "markdown",
   "metadata": {},
   "source": [
    "Knowing that we have different property types, we can build correlations\n",
    "for each types for further analysis."
   ]
  },
  {
   "cell_type": "code",
   "execution_count": null,
   "metadata": {},
   "outputs": [],
   "source": [
    "apt_correlation = df[df.property_type != 'Single-Family'].corr()\n",
    "apt_correlation.tx_price.sort_values(ascending=False)"
   ]
  },
  {
   "cell_type": "code",
   "execution_count": null,
   "metadata": {},
   "outputs": [],
   "source": [
    "single_correlation = df[df.property_type == 'Single-Family'].corr()\n",
    "single_correlation.tx_price.sort_values(ascending=False)"
   ]
  },
  {
   "cell_type": "markdown",
   "metadata": {},
   "source": [
    "We can also create a Seaborn heatmap to better visualize the\n",
    "correlations."
   ]
  },
  {
   "cell_type": "code",
   "execution_count": null,
   "metadata": {},
   "outputs": [],
   "source": [
    "# create pyplot figure\n",
    "plt.figure(figsize=(10, 8))\n",
    "\n",
    "# generate mask to create triangle figure\n",
    "mask = np.zeros_like(correlations, dtype=np.bool) # 2d ndarry bool values, same shape as correlations\n",
    "\n",
    "mask[np.triu_indices_from(mask)] = True # set upper triangle indices to True\n",
    "\n",
    "# plot heatmap as triangle\n",
    "sns.heatmap(correlations * 100, annot=True, fmt='.0f', mask=mask)"
   ]
  },
  {
   "cell_type": "markdown",
   "metadata": {},
   "source": [
    "Next Module\n",
    "-----------\n",
    "\n",
    "[02. Data Cleaning](module02.md)"
   ]
  }
 ],
 "metadata": {
  "kernelspec": {
   "display_name": "Python 3",
   "language": "python",
   "name": "python3"
  },
  "language_info": {
   "codemirror_mode": {
    "name": "ipython",
    "version": 3
   },
   "file_extension": ".py",
   "mimetype": "text/x-python",
   "name": "python",
   "nbconvert_exporter": "python",
   "pygments_lexer": "ipython3",
   "version": "3.7.3"
  }
 },
 "nbformat": 4,
 "nbformat_minor": 5
}
